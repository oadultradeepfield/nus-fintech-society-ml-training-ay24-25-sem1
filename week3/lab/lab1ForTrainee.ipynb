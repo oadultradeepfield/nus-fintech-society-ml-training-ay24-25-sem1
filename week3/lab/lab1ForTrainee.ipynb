{
 "cells": [
  {
   "cell_type": "markdown",
   "metadata": {},
   "source": [
    "# L1: Analyzing Customer Spending Habits"
   ]
  },
  {
   "cell_type": "markdown",
   "metadata": {},
   "source": [
    "Created by Machine Learning Department, NUS Fintech Society\n",
    "\n",
    "In this lab, you will perform some basic data analysis on the credit card dataset to get some glances of the customer spending habits. The dataset contains information about the usage behavior of about 9000 active credit card holders. The file is at a customer level with 18 behavioral variables. Your goal is to understand the dataset by performing processing techniques you learn in the week 3 training session.\n",
    "\n",
    "This analysis is required to develop a customer segmentation to define a proper marketing strategy. Following is the meaning of each column in the dataset:\n",
    "\n",
    "* `CUST_ID`: Identification of Credit Card holder (Categorical)\n",
    "* `BALANCE`: Balance amount left in their account to make purchases\n",
    "* `BALANCE_FREQUENCY`: How frequently the Balance is updated, score between 0 and 1 (1 = frequently updated, 0 = not frequently updated)\n",
    "* `PURCHASES`: Amount of purchases made from account\n",
    "* `ONEOFF_PURCHASES`: Maximum purchase amount done in one-go\n",
    "* `INSTALLMENTS_PURCHASES`: Amount of purchase done in installment\n",
    "* `CASH_ADVANCE`: Cash in advance given by the user\n",
    "* `PURCHASES_FREQUENCY`: How frequently the Purchases are being made, score between 0 and 1 (1 = frequently purchased, 0 = not frequently purchased)\n",
    "* `ONEOFF_PURCHASES_FREQUENCY`: How frequently Purchases are happening in one-go (1 = frequently purchased, 0 = not frequently purchased)\n",
    "* `PURCHASES_INSTALLMENTS_FREQUENCY`: How frequently purchases in installments are being done (1 = frequently done, 0 = not frequently done)\n",
    "* `CASH_ADVANCE_FREQUENCY`: How frequently the cash in advance being paid\n",
    "* `CASH_ADVANCE_TRX`: Number of Transactions made with \"Cash in Advanced\"\n",
    "* `PURCHASES_TRX`: Number of purchase transactions made\n",
    "* `CREDIT_LIMIT`: Limit of Credit Card for user\n",
    "* `PAYMENTS`: Amount of Payment done by user\n",
    "* `MINIMUM_PAYMENTS`: Minimum amount of payments made by user\n",
    "* `PRC_FULL_PAYMENT`: Percent of full payment paid by user\n",
    "* `TENURE`: Tenure of credit card service for user"
   ]
  },
  {
   "cell_type": "code",
   "execution_count": null,
   "metadata": {},
   "outputs": [],
   "source": [
    "# Download the dataset from the repository (please run this first without any modification)\n",
    "!wget -N https://raw.githubusercontent.com/oadultradeepfield/nus-fintech-society-ml-training-ay24-25-sem1/main/week3/data/credit_card.csv"
   ]
  },
  {
   "cell_type": "markdown",
   "metadata": {},
   "source": [
    "# Lab Tasks and Questions"
   ]
  },
  {
   "cell_type": "markdown",
   "metadata": {},
   "source": [
    "## Loading the Data and Initial Exploration"
   ]
  },
  {
   "cell_type": "markdown",
   "metadata": {},
   "source": [
    "### Instructions:\n",
    "* Load the dataset into a Pandas DataFrame.\n",
    "* Display the first few rows to get an initial look at the data."
   ]
  },
  {
   "cell_type": "markdown",
   "metadata": {},
   "source": [
    "### Q1: What is maximum amount of purchases done in one-go for the customer with an identification number of C10004? (Answer this in Google Form)"
   ]
  },
  {
   "cell_type": "code",
   "execution_count": null,
   "metadata": {},
   "outputs": [],
   "source": [
    "# These are the libraries you will use in this labb\n",
    "import pandas as pd\n",
    "import seaborn as sns"
   ]
  },
  {
   "cell_type": "code",
   "execution_count": null,
   "metadata": {},
   "outputs": [],
   "source": [
    "# Load the dataset from the downloaded file\n",
    "df = pd.read_csv('credit_card.csv')"
   ]
  },
  {
   "cell_type": "code",
   "execution_count": null,
   "metadata": {},
   "outputs": [],
   "source": [
    "# Display the first five rows of the dataset\n",
    "# your code go here"
   ]
  },
  {
   "cell_type": "markdown",
   "metadata": {},
   "source": [
    "## Understanding the Dataset Structure"
   ]
  },
  {
   "cell_type": "markdown",
   "metadata": {},
   "source": [
    "### Instructions:\n",
    "\n",
    "* Use `df.info()` to get an overview of the dataset's structure.\n",
    "* Use `df.describe()` to generate summary statistics for the numerical columns."
   ]
  },
  {
   "cell_type": "markdown",
   "metadata": {},
   "source": [
    "### Q2: How many rows and columns does the dataset have?  (Answer this in Google Form)"
   ]
  },
  {
   "cell_type": "code",
   "execution_count": null,
   "metadata": {},
   "outputs": [],
   "source": [
    "# Display dataset information\n",
    "# your code go here"
   ]
  },
  {
   "cell_type": "markdown",
   "metadata": {},
   "source": [
    "### Q3: What is the maximum amount of cash in advance ever given by a user?  (Answer this in Google Form)"
   ]
  },
  {
   "cell_type": "code",
   "execution_count": null,
   "metadata": {},
   "outputs": [],
   "source": [
    "# Generate summary statistics for numerical columns\n",
    "# your code go here"
   ]
  },
  {
   "cell_type": "markdown",
   "metadata": {},
   "source": [
    "## Slicing and Sorting Data"
   ]
  },
  {
   "cell_type": "markdown",
   "metadata": {},
   "source": [
    "### Instructions:\n",
    "\n",
    "* Select only the columns `CUST_ID` and `PURCHASES_TRX`.\n",
    "* Sort the data by `PURCHASES_TRX` to identify the highest numbers of purchases."
   ]
  },
  {
   "cell_type": "markdown",
   "metadata": {},
   "source": [
    "### Q4: What are the top 3 highest numbers of purchases? Provide the details for these transactions, including the credit card identification number and the numbers of purchases.  (Answer this in Google Form)"
   ]
  },
  {
   "cell_type": "code",
   "execution_count": null,
   "metadata": {},
   "outputs": [],
   "source": [
    "# Select the specified columns\n",
    "# your code go here\n",
    "\n",
    "# Sort the data by 'transaction_amount' in descending order\n",
    "# your code go here"
   ]
  },
  {
   "cell_type": "markdown",
   "metadata": {},
   "source": [
    "## Data Visualization with Seaborn"
   ]
  },
  {
   "cell_type": "markdown",
   "metadata": {},
   "source": [
    "### Instructions:\n",
    "\n",
    "* Create a histogram to visualize the distribution of the amount of payment done by users\n",
    "* Create a scatter plot to explore the relationship between amount of payment done by users ($Y$) and their credit limits ($X$)"
   ]
  },
  {
   "cell_type": "markdown",
   "metadata": {},
   "source": [
    "### Q5: Based on the observations on scatter plot, what can you infer about the relationship between a customer's credit limit and their spending behavior?  (Answer this in Google Form)"
   ]
  },
  {
   "cell_type": "code",
   "execution_count": null,
   "metadata": {},
   "outputs": [],
   "source": [
    "# Histogram of the amount of payment done by users\n",
    "# your code go here"
   ]
  },
  {
   "cell_type": "code",
   "execution_count": null,
   "metadata": {},
   "outputs": [],
   "source": [
    "# Scatter plot for amount of payment done by users vs. their credit limits\n",
    "# your code go here"
   ]
  },
  {
   "cell_type": "markdown",
   "metadata": {},
   "source": [
    "<h2 style=\"text-align: center;\"><hr>END OF THE LAB<hr></h2>"
   ]
  }
 ],
 "metadata": {
  "kernelspec": {
   "display_name": "Python 3",
   "language": "python",
   "name": "python3"
  },
  "language_info": {
   "codemirror_mode": {
    "name": "ipython",
    "version": 3
   },
   "file_extension": ".py",
   "mimetype": "text/x-python",
   "name": "python",
   "nbconvert_exporter": "python",
   "pygments_lexer": "ipython3",
   "version": "3.11.9"
  }
 },
 "nbformat": 4,
 "nbformat_minor": 2
}
